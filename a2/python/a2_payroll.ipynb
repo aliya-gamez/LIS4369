{
 "cells": [
  {
   "cell_type": "code",
   "execution_count": 1,
   "id": "8e30bcec",
   "metadata": {},
   "outputs": [],
   "source": [
    "def get_requirements():\n",
    "    print(\"\\nDeveloper: Aliya Gamez\")\n",
    "    print(\"Payroll Calculator\")\n",
    "    print(\"\\nProgram Requirements:\"\n",
    "          + \"\\n1. Must use float data type for user input.\"\n",
    "          + \"\\n2. Overtime rate: 1.5 times hourly rate (hours over 40)\"\n",
    "          + \"\\n3. Holiday rate: 2.0 times hourly rate (all holiday hours).\"\n",
    "          + \"\\n4. Must format currency with dollar sign, and round to two decimal places.\"\n",
    "          + \"\\n5. Create at least three functions that are called by the program:\"\n",
    "          + \"\\n\\ta. main(): calls at least two other functions.\"\n",
    "          + \"\\n\\tb. get_requirements(): displays the program requirements.\"\n",
    "          + \"\\n\\tc. calculate_payroll(): calculates an individual one-week paycheck.\\n\")"
   ]
  },
  {
   "cell_type": "code",
   "execution_count": 2,
   "id": "62784f94",
   "metadata": {},
   "outputs": [],
   "source": [
    "def calculate_payroll():\n",
    "    #CONSTANTS\n",
    "    BASE_HOURS = 40\n",
    "    OVERTIME_RATE = 1.5\n",
    "    HOLIDAY_RATE = 2.0\n",
    "    print(\"Input:\")\n",
    "    hours = float(input(\"Enter hours worked: \"))\n",
    "    holiday_hours = float(input(\"Enter holiday hours: \"))\n",
    "    pay_rate = float(input(\"Enter hourly pay rate: \"))\n",
    "    \n",
    "    base_pay = BASE_HOURS * pay_rate\n",
    "    overtime_hours = hours - BASE_HOURS\n",
    "    \n",
    "    if hours > BASE_HOURS:\n",
    "        overtime_pay = overtime_hours * pay_rate * OVERTIME_RATE\n",
    "        holiday_pay = holiday_hours * pay_rate * HOLIDAY_RATE\n",
    "        gross_pay = BASE_HOURS * pay_rate + overtime_pay + holiday_pay\n",
    "        print(BASE_HOURS)\n",
    "        print(pay_rate)\n",
    "        print(overtime_pay)\n",
    "        print(holiday_hours)\n",
    "        print_pay(base_pay, overtime_pay, holiday_pay, gross_pay)\n",
    "    else:\n",
    "        overtime_pay = 0\n",
    "        holiday_pay = holiday_hours * pay_rate * HOLIDAY_RATE\n",
    "        gross_pay = hours * pay_rate + holiday_pay\n",
    "        print_pay(base_pay, overtime_pay, holiday_pay, gross_pay)"
   ]
  },
  {
   "cell_type": "code",
   "execution_count": 3,
   "id": "773da77b",
   "metadata": {},
   "outputs": [],
   "source": [
    "def print_pay(base_pay, overtime_pay, holiday_pay, gross_pay):\n",
    "    print(\"\\nOutput:\")\n",
    "    print(\"{0:<10} ${1:,.2f}\".format('Base', base_pay))\n",
    "    print(\"{0:<10} ${1:,.2f}\".format('Overtime', overtime_pay))\n",
    "    print(\"{0:<10} ${1:,.2f}\".format('Holiday', holiday_pay))\n",
    "    print(\"{0:<10} ${1:,.2f}\".format('Gross', gross_pay))"
   ]
  },
  {
   "cell_type": "code",
   "execution_count": 4,
   "id": "4d7590e1",
   "metadata": {},
   "outputs": [
    {
     "name": "stdout",
     "output_type": "stream",
     "text": [
      "\n",
      "Developer: Aliya Gamez\n",
      "Payroll Calculator\n",
      "\n",
      "Program Requirements:\n",
      "1. Must use float data type for user input.\n",
      "2. Overtime rate: 1.5 times hourly rate (hours over 40)\n",
      "3. Holiday rate: 2.0 times hourly rate (all holiday hours).\n",
      "4. Must format currency with dollar sign, and round to two decimal places.\n",
      "5. Create at least three functions that are called by the program:\n",
      "\ta. main(): calls at least two other functions.\n",
      "\tb. get_requirements(): displays the program requirements.\n",
      "\tc. calculate_payroll(): calculates an individual one-week paycheck.\n",
      "\n",
      "Input:\n",
      "Enter hours worked: 40\n",
      "Enter holiday hours: 10\n",
      "Enter hourly pay rate: 10\n",
      "\n",
      "Output:\n",
      "Base       $400.00\n",
      "Overtime   $0.00\n",
      "Holiday    $200.00\n",
      "Gross      $600.00\n"
     ]
    }
   ],
   "source": [
    "import functions as f\n",
    "\n",
    "def main():\n",
    "    f.get_requirements()\n",
    "    f.calculate_payroll()\n",
    "    \n",
    "if __name__== \"__main__\":\n",
    "    main()"
   ]
  },
  {
   "cell_type": "code",
   "execution_count": 5,
   "id": "b5adb0a7",
   "metadata": {},
   "outputs": [
    {
     "name": "stdout",
     "output_type": "stream",
     "text": [
      "\n",
      "Developer: Aliya Gamez\n",
      "Payroll Calculator\n",
      "\n",
      "Program Requirements:\n",
      "1. Must use float data type for user input.\n",
      "2. Overtime rate: 1.5 times hourly rate (hours over 40)\n",
      "3. Holiday rate: 2.0 times hourly rate (all holiday hours).\n",
      "4. Must format currency with dollar sign, and round to two decimal places.\n",
      "5. Create at least three functions that are called by the program:\n",
      "\ta. main(): calls at least two other functions.\n",
      "\tb. get_requirements(): displays the program requirements.\n",
      "\tc. calculate_payroll(): calculates an individual one-week paycheck.\n",
      "\n",
      "Input:\n",
      "Enter hours worked: 50\n",
      "Enter holiday hours: 10\n",
      "Enter hourly pay rate: 10\n",
      "40\n",
      "10.0\n",
      "150.0\n",
      "10.0\n",
      "\n",
      "Output:\n",
      "Base       $400.00\n",
      "Overtime   $150.00\n",
      "Holiday    $200.00\n",
      "Gross      $750.00\n"
     ]
    }
   ],
   "source": [
    "if __name__== \"__main__\":\n",
    "    main()"
   ]
  },
  {
   "cell_type": "code",
   "execution_count": null,
   "id": "d6de4e09",
   "metadata": {},
   "outputs": [],
   "source": []
  }
 ],
 "metadata": {
  "kernelspec": {
   "display_name": "Python 3 (ipykernel)",
   "language": "python",
   "name": "python3"
  },
  "language_info": {
   "codemirror_mode": {
    "name": "ipython",
    "version": 3
   },
   "file_extension": ".py",
   "mimetype": "text/x-python",
   "name": "python",
   "nbconvert_exporter": "python",
   "pygments_lexer": "ipython3",
   "version": "3.9.12"
  }
 },
 "nbformat": 4,
 "nbformat_minor": 5
}
