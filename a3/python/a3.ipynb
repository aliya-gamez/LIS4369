{
 "cells": [
  {
   "cell_type": "code",
   "execution_count": 1,
   "id": "c3b437d6",
   "metadata": {},
   "outputs": [],
   "source": [
    "# CONSTANT VALUES\n",
    "SQFT_PER_GALLON = 350"
   ]
  },
  {
   "cell_type": "code",
   "execution_count": 2,
   "id": "bdf07abb",
   "metadata": {},
   "outputs": [],
   "source": [
    "def get_requirements():\n",
    "    print(\"\\nDeveloper: Aliya Gamez\")\n",
    "    print(\"Painting Estimator\")\n",
    "    print(\"\\nProgram Requirements:\"\n",
    "          + \"\\n1. Calculate home interior paint cost (w/o primer).\"\n",
    "          + \"\\n2. Must use float data types.\"\n",
    "          + \"\\n3. Must use SQFT_PER_GALLON constant (350).\"\n",
    "          + '\\n4. Must use iteration structure (aka \"loop\").'\n",
    "          + \"\\n5. Format, right-align numbers, and round to two decimal places.\"\n",
    "          + \"\\n6. Create at least five functions that are called by the program:\"\n",
    "          + \"\\n\\ta. main(): calls two other functions: get_requirements() and estimate_painting_cost()\"\n",
    "          + \"\\n\\tb. get_requirements(): displays the program requirements.\"\n",
    "          + \"\\n\\tc. estimate_painting_cost(): calculates interior home painting, and calls print functions.\"\n",
    "          + \"\\n\\td. print_painting_estimate(): displays painting costs.\"\n",
    "          + \"\\n\\te. print_painting_percentage(): displays painting costs percentages.\")"
   ]
  },
  {
   "cell_type": "code",
   "execution_count": 3,
   "id": "83ed8c0d",
   "metadata": {},
   "outputs": [],
   "source": [
    "def estimate_painting_cost():\n",
    "    print(\"\\nInput:\")\n",
    "    totalSqft = float(input(\"Enter total interior sq ft: \"))\n",
    "    priceGallon = float(input(\"Enter price per gallon paint: \"))\n",
    "    laborSqft = float(input(\"Enter hourly painting rate per sq ft: \"))\n",
    "    print(\"\\n\")\n",
    "    \n",
    "    numGallon = totalSqft / SQFT_PER_GALLON\n",
    "    paintTotal = numGallon * priceGallon\n",
    "    laborTotal = totalSqft * laborSqft\n",
    "    total = paintTotal + laborTotal\n",
    "    \n",
    "    print_painting_estimate(totalSqft, numGallon, priceGallon, laborSqft)\n",
    "    print_painting_percentage(paintTotal, laborTotal, total)\n",
    "    \n",
    "    paintContinue = str(input(\"\\nEstimate another paint job? (y/n): \"))\n",
    "    \n",
    "    if paintContinue == \"y\":\n",
    "        estimate_painting_cost()\n",
    "    else:\n",
    "        print(\"\\nThank you for using our Painting Estimator!\\nPlease see our web site: http://www.mysite.com\")"
   ]
  },
  {
   "cell_type": "code",
   "execution_count": 4,
   "id": "715be2a0",
   "metadata": {},
   "outputs": [],
   "source": [
    "def print_painting_estimate(totalSqft, numGallon, priceGallon, laborSqft):  \n",
    "    rule = \"{0:<22} {1:>9,.2f}\"\n",
    "    rule_mon = \"{0:<22} ${1:>8,.2f}\"\n",
    "    label = \"{0:<22} {1:>9}\"\n",
    "    print(\"Output:\")\n",
    "    print(label.format('Item','Amount'))\n",
    "    print(rule.format('Total Sq Ft:', totalSqft))\n",
    "    print(rule.format('Sq Ft per Gallon:', SQFT_PER_GALLON))\n",
    "    print(rule.format('Number of Gallons:', numGallon))\n",
    "    print(rule_mon.format('Price per Gallon:', priceGallon))\n",
    "    print(rule_mon.format('Labor per Sq Ft:', laborSqft))"
   ]
  },
  {
   "cell_type": "code",
   "execution_count": 5,
   "id": "98970a7f",
   "metadata": {},
   "outputs": [],
   "source": [
    "def print_painting_percentage(paintTotal, laborTotal, total):\n",
    "    rule = \"{0:<8} ${1:>8,.2f} {2:>13.2f}%\"\n",
    "    label = \"{0:<8} {1:>9} {2:>14}\"\n",
    "    print(\"\\n\")\n",
    "    print(label.format('Cost', 'Amount', 'Percentage'))\n",
    "    print(rule.format('Paint:', paintTotal, ((paintTotal/total)*100) ))\n",
    "    print(rule.format('Labor:', laborTotal, ((laborTotal/total)*100) ))\n",
    "    print(rule.format('Total:', laborTotal+paintTotal, 100))"
   ]
  },
  {
   "cell_type": "code",
   "execution_count": 6,
   "id": "271bfa89",
   "metadata": {},
   "outputs": [
    {
     "name": "stdout",
     "output_type": "stream",
     "text": [
      "\n",
      "Developer: Aliya Gamez\n",
      "Painting Estimator\n",
      "\n",
      "Program Requirements:\n",
      "1. Calculate home interior paint cost (w/o primer).\n",
      "2. Must use float data types.\n",
      "3. Must use SQFT_PER_GALLON constant (350).\n",
      "4. Must use iteration structure (aka \"loop\").\n",
      "5. Format, right-align numbers, and round to two decimal places.\n",
      "6. Create at least five functions that are called by the program:\n",
      "\ta. main(): calls two other functions: get_requirements() and estimate_painting_cost()\n",
      "\tb. get_requirements(): displays the program requirements.\n",
      "\tc. estimate_painting_cost(): calculates interior home painting, and calls print functions.\n",
      "\td. print_painting_estimate(): displays painting costs.\n",
      "\te. print_painting_percentage(): displays painting costs percentages.\n",
      "\n",
      "Input:\n",
      "Enter total interior sq ft: 2500\n",
      "Enter price per gallon paint: 30\n",
      "Enter hourly painting rate per sq ft: 2\n",
      "\n",
      "\n",
      "Output:\n",
      "Item                      Amount\n",
      "Total Sq Ft:            2,500.00\n",
      "Sq Ft per Gallon:         350.00\n",
      "Number of Gallons:          7.14\n",
      "Price per Gallon:      $   30.00\n",
      "Labor per Sq Ft:       $    2.00\n",
      "\n",
      "\n",
      "Cost        Amount     Percentage\n",
      "Paint:   $  214.29          4.11%\n",
      "Labor:   $5,000.00         95.89%\n",
      "Total:   $5,214.29        100.00%\n",
      "\n",
      "Estimate another paint job? (y/n): n\n",
      "\n",
      "Thank you for using our Painting Estimator!\n",
      "Please see our web site: http://www.mysite.com\n"
     ]
    }
   ],
   "source": [
    "import functions as f\n",
    "\n",
    "def main():\n",
    "    f.get_requirements()\n",
    "    f.estimate_painting_cost()\n",
    "\n",
    "if __name__==\"__main__\":\n",
    "    main()"
   ]
  },
  {
   "cell_type": "code",
   "execution_count": null,
   "id": "84910858",
   "metadata": {},
   "outputs": [],
   "source": []
  }
 ],
 "metadata": {
  "kernelspec": {
   "display_name": "Python 3 (ipykernel)",
   "language": "python",
   "name": "python3"
  },
  "language_info": {
   "codemirror_mode": {
    "name": "ipython",
    "version": 3
   },
   "file_extension": ".py",
   "mimetype": "text/x-python",
   "name": "python",
   "nbconvert_exporter": "python",
   "pygments_lexer": "ipython3",
   "version": "3.9.12"
  }
 },
 "nbformat": 4,
 "nbformat_minor": 5
}
